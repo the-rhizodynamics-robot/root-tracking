{
 "cells": [
  {
   "cell_type": "code",
   "execution_count": 5,
   "metadata": {},
   "outputs": [],
   "source": [
    "import importlib #use importlib to reimport modules that I commonly edit/optimize. This way I don't have to restart the kernel.\n",
    "import sys\n",
    "\n",
    "import src.myutilities.constants as c\n",
    "importlib.reload(c)\n",
    "\n",
    "sys.path.append(c.SOURCE_PATH)\n",
    "\n",
    "import src.myutilities.box as box\n",
    "importlib.reload(box)\n",
    "\n",
    "import src.myutilities.util as util\n",
    "importlib.reload(util)\n",
    "\n",
    "import src.retnet.model as model\n",
    "importlib.reload(model)\n",
    "\n",
    "import gc\n",
    "from matplotlib import pyplot as plt\n",
    "import os\n",
    "plt.rcParams['figure.figsize'] = [10, 10]"
   ]
  },
  {
   "cell_type": "code",
   "execution_count": 8,
   "metadata": {},
   "outputs": [
    {
     "name": "stderr",
     "output_type": "stream",
     "text": [
      "2022-06-28 14:54:15.963152: W tensorflow/core/framework/allocator.cc:124] Allocation of 18874368 exceeds 10% of system memory.\n",
      "2022-06-28 14:54:17.880846: W tensorflow/core/framework/allocator.cc:124] Allocation of 18874368 exceeds 10% of system memory.\n"
     ]
    }
   ],
   "source": [
    "%%capture \n",
    "#capture prevents output of function calls from being printed (ie, tensorflow verbiage)\n",
    "data_path = c.QUANTIFICATION_IN_PATH\n",
    "qr_model = model.QrModel(c.QR_MODEL_PATH_LOCAL)"
   ]
  },
  {
   "cell_type": "code",
   "execution_count": 7,
   "metadata": {},
   "outputs": [
    {
     "name": "stdout",
     "output_type": "stream",
     "text": [
      "Unable to copy video 3754. Perhaps you are trying to move a video from stabilized directory that wasn't stabilized?\n",
      "Unable to copy video 3755. Perhaps you are trying to move a video from stabilized directory that wasn't stabilized?\n"
     ]
    }
   ],
   "source": [
    "#put all videos you'd like to copy into following tuple\n",
    "#video_copy_tuple = (3205,3207, 3209, 3211)\n",
    "\n",
    "#last batch\n",
    "#2261-2364\n",
    "\n",
    "video_copy_tuple = tuple(range(3754, 3755 + 1)) #just place first and last experiment numbers here\n",
    "\n",
    "#video_copy_tuple = (2980,)  #for single experiment\n",
    "\n",
    "util.copy_videos(video_copy_tuple, source = \"stabilized\")"
   ]
  },
  {
   "cell_type": "code",
   "execution_count": 6,
   "metadata": {},
   "outputs": [
    {
     "name": "stdout",
     "output_type": "stream",
     "text": [
      "3542.mp4\n",
      "3543.mp4\n",
      "3544.mp4\n",
      "3545.mp4\n",
      "3546.mp4\n",
      "3547.mp4\n",
      "3548.mp4\n",
      "3549.mp4\n"
     ]
    }
   ],
   "source": [
    "#unspool videos\n",
    "unspool_list = util.listdir_nohidden(data_path + \"to_unspool//\",)\n",
    "\n",
    "for u in unspool_list:\n",
    "    print(u)\n",
    "    video_path = data_path + \"to_unspool//\" + u\n",
    "    unspool_path = data_path + \"stabilized//\" + os.path.splitext(u)[0] + \"/\"\n",
    "    util.unspool_video(video_path, unspool_path, remove = True)"
   ]
  },
  {
   "cell_type": "code",
   "execution_count": null,
   "metadata": {},
   "outputs": [],
   "source": [
    "del b\n",
    "gc.collect()"
   ]
  }
 ],
 "metadata": {
  "kernelspec": {
   "display_name": "Python 3 (ipykernel)",
   "language": "python",
   "name": "python3"
  },
  "language_info": {
   "codemirror_mode": {
    "name": "ipython",
    "version": 3
   },
   "file_extension": ".py",
   "mimetype": "text/x-python",
   "name": "python",
   "nbconvert_exporter": "python",
   "pygments_lexer": "ipython3",
   "version": "3.7.13"
  }
 },
 "nbformat": 4,
 "nbformat_minor": 4
}
