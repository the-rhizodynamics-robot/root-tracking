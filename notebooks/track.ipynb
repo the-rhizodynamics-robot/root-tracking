{
 "cells": [
  {
   "cell_type": "code",
   "execution_count": null,
   "metadata": {},
   "outputs": [],
   "source": [
    "import sys\n",
    "import os\n",
    "sys.path.append('/app/src')\n",
    "from setup_environment import setup_paths, seed_localization_and_tip_tracking\n",
    "c, box, util, model = setup_paths()\n"
   ]
  },
  {
   "cell_type": "code",
   "execution_count": null,
   "metadata": {},
   "outputs": [
    {
     "name": "stderr",
     "output_type": "stream",
     "text": [
      "2022-07-08 03:11:51.025926: I tensorflow/core/platform/cpu_feature_guard.cc:141] Your CPU supports instructions that this TensorFlow binary was not compiled to use: AVX2 FMA\n",
      "2022-07-08 03:11:51.036608: I tensorflow/core/platform/profile_utils/cpu_utils.cc:94] CPU Frequency: 2200155000 Hz\n",
      "2022-07-08 03:11:51.038287: I tensorflow/compiler/xla/service/service.cc:150] XLA service 0x55f6701b2070 executing computations on platform Host. Devices:\n",
      "2022-07-08 03:11:51.038436: I tensorflow/compiler/xla/service/service.cc:158]   StreamExecutor device (0): <undefined>, <undefined>\n"
     ]
    }
   ],
   "source": [
    "%%capture \n",
    "#capture prevents output of function calls from being printed (ie, lots of tensorflow verbiage)\n",
    "data_path = c.QUANTIFICATION_IN_PATH\n",
    "seed_model = model.SeedModel(c.SEED_MODEL_PATH)\n",
    "qr_model = model.QrModel(c.QR_MODEL_PATH)"
   ]
  },
  {
   "cell_type": "code",
   "execution_count": null,
   "metadata": {},
   "outputs": [],
   "source": [
    "box_list = util.listdir_nohidden(os.path.join(data_path, \"stabilized\"))\n",
    "outputs = []\n",
    "print(box_list)\n",
    "\n",
    "#threshold_multiplier:\n",
    "#1.3 and 50 can work for rice. rice has been 1.5 (bright lights) and 1.3 or 1.4 (dimmer lights) and 30-50, arabidopsis seemed to work somewhat at 1.4 and 10\n",
    "#1.2 was working pretty well for rice in high gelzan percent boxes (.5% or above)\n",
    "for expt in box_list:\n",
    "    \n",
    "    while True:\n",
    "        track = input(\"Would you like to track box #\" + str(expt) + \"? (y) or (n): \")\n",
    "        if track == \"y\" or track == \"n\":\n",
    "            break\n",
    "        else:\n",
    "            print(\"Invalid character\")\n",
    "    if track == \"y\":\n",
    "        box_path = os.path.join(data_path, \"stabilized\", expt, \"\")\n",
    "        b = box.Box(box_path)\n",
    "        b.init_seeds(seed_model, automatic = True) \n",
    "        b.germination_detection(save_tip_sample=False, threshold_multiplier= 1.5, automatic = False)\n",
    "        b.tip_trace_pcv(384, threshold_multiplier = 1.5, bound_radius = 30) \n",
    "        b.validate_save_tracking()\n",
    "        del b\n",
    "        gc.collect()  "
   ]
  },
  {
   "cell_type": "code",
   "execution_count": null,
   "metadata": {},
   "outputs": [],
   "source": [
    "util.sync_for_rstudio()\n",
    "util.sync_traced_tips() #NEED TO FIGURE OUT HOW TO SYNC TO BUCKET. CAN'T SIMPLY USE RSYNC TO MOUNTED BUCKET"
   ]
  },
  {
   "cell_type": "code",
   "execution_count": null,
   "metadata": {},
   "outputs": [],
   "source": [
    "util.archive(\"stabilized\")"
   ]
  },
  {
   "cell_type": "code",
   "execution_count": null,
   "metadata": {},
   "outputs": [],
   "source": [
    "#run this if the program crashes\n",
    "del b\n",
    "gc.collect()"
   ]
  },
  {
   "cell_type": "code",
   "execution_count": null,
   "metadata": {},
   "outputs": [],
   "source": [
    "util.empty_trash()"
   ]
  }
 ],
 "metadata": {
  "kernelspec": {
   "display_name": "Python 3 (ipykernel)",
   "language": "python",
   "name": "python3"
  },
  "language_info": {
   "codemirror_mode": {
    "name": "ipython",
    "version": 3
   },
   "file_extension": ".py",
   "mimetype": "text/x-python",
   "name": "python",
   "nbconvert_exporter": "python",
   "pygments_lexer": "ipython3",
   "version": "3.7.13"
  }
 },
 "nbformat": 4,
 "nbformat_minor": 4
}
