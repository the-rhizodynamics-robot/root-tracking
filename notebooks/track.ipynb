{
 "cells": [
  {
   "cell_type": "code",
   "execution_count": null,
   "metadata": {},
   "outputs": [],
   "source": [
    "import sys\n",
    "import os\n",
    "sys.path.append('/app/src')\n",
    "from setup_environment import setup_paths, seed_localization_and_tip_tracking\n",
    "box, util, model = setup_paths()\n"
   ]
  },
  {
   "cell_type": "code",
   "execution_count": null,
   "metadata": {},
   "outputs": [
    {
     "name": "stderr",
     "output_type": "stream",
     "text": [
      "2022-07-08 03:11:51.025926: I tensorflow/core/platform/cpu_feature_guard.cc:141] Your CPU supports instructions that this TensorFlow binary was not compiled to use: AVX2 FMA\n",
      "2022-07-08 03:11:51.036608: I tensorflow/core/platform/profile_utils/cpu_utils.cc:94] CPU Frequency: 2200155000 Hz\n",
      "2022-07-08 03:11:51.038287: I tensorflow/compiler/xla/service/service.cc:150] XLA service 0x55f6701b2070 executing computations on platform Host. Devices:\n",
      "2022-07-08 03:11:51.038436: I tensorflow/compiler/xla/service/service.cc:158]   StreamExecutor device (0): <undefined>, <undefined>\n"
     ]
    }
   ],
   "source": [
    "%%capture \n",
    "#capture prevents output of function calls from being printed (ie, lots of tensorflow verbiage)\n",
    "data_path = c.QUANTIFICATION_IN_PATH\n",
    "seed_model = model.SeedModel(\"/app/models/SeedInference.h5\")\n",
    "qr_model = model.QrModel(\"/app/models/qrInference.h5\")"
   ]
  },
  {
   "cell_type": "code",
   "execution_count": null,
   "metadata": {},
   "outputs": [],
   "source": [
    "box_list = util.listdir_nohidden(os.path.join(data_path, \"stabilized\"))\n",
    "outputs = []\n",
    "print(box_list)\n",
    "\n",
    "#threshold_multiplier:\n",
    "#1.3 and 50 can work for rice. rice has been 1.5 (bright lights) and 1.3 or 1.4 (dimmer lights) and 30-50, arabidopsis seemed to work somewhat at 1.4 and 10\n",
    "#1.2 was working pretty well for rice in high gelzan percent boxes (.5% or above)\n",
    "seed_localization_and_tip_tracking(data_path, box_list, seed_model, threshold_multiplier=1.3, min_area=50, output=outputs)"
   ]
  },
  {
   "cell_type": "code",
   "execution_count": null,
   "metadata": {},
   "outputs": [],
   "source": [
    "util.sync_for_rstudio()\n",
    "util.sync_traced_tips() #NEED TO FIGURE OUT HOW TO SYNC TO BUCKET. CAN'T SIMPLY USE RSYNC TO MOUNTED BUCKET"
   ]
  },
  {
   "cell_type": "code",
   "execution_count": null,
   "metadata": {},
   "outputs": [],
   "source": [
    "util.archive(\"stabilized\")"
   ]
  },
  {
   "cell_type": "code",
   "execution_count": null,
   "metadata": {},
   "outputs": [],
   "source": [
    "#run this if the program crashes\n",
    "del b\n",
    "gc.collect()"
   ]
  },
  {
   "cell_type": "code",
   "execution_count": null,
   "metadata": {},
   "outputs": [],
   "source": [
    "util.empty_trash()"
   ]
  }
 ],
 "metadata": {
  "kernelspec": {
   "display_name": "Python 3 (ipykernel)",
   "language": "python",
   "name": "python3"
  },
  "language_info": {
   "codemirror_mode": {
    "name": "ipython",
    "version": 3
   },
   "file_extension": ".py",
   "mimetype": "text/x-python",
   "name": "python",
   "nbconvert_exporter": "python",
   "pygments_lexer": "ipython3",
   "version": "3.7.13"
  }
 },
 "nbformat": 4,
 "nbformat_minor": 4
}
