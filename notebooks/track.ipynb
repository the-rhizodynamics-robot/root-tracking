{
 "cells": [
  {
   "cell_type": "markdown",
   "metadata": {},
   "source": [
    "Clean up utils\n",
    "\n",
    "Lots of reference to constants in box. Need to fix those.\n",
    "\n",
    "Go over organization\n",
    "\n",
    "Find a couple videos, unspool to create test data.\n",
    "\n",
    "test"
   ]
  },
  {
   "cell_type": "code",
   "execution_count": null,
   "metadata": {},
   "outputs": [],
   "source": [
    "%%capture \n",
    "import sys\n",
    "sys.path.append('/app/src')\n",
    "from setup_environment import seed_localization_and_tip_tracking"
   ]
  },
  {
   "cell_type": "code",
   "execution_count": null,
   "metadata": {},
   "outputs": [],
   "source": [
    "#threshold_multiplier:\n",
    "#1.3 and 50 can work for rice. rice has been 1.5 (bright lights) and 1.3 or 1.4 (dimmer lights) and 30-50, arabidopsis seemed to work somewhat at 1.4 and 10\n",
    "#1.2 was working pretty well for rice in high gelzan percent boxes (.5% or above)\n",
    "seed_localization_and_tip_tracking(threshold_multiplier=1.3, min_area=50)"
   ]
  },
  {
   "cell_type": "code",
   "execution_count": null,
   "metadata": {},
   "outputs": [],
   "source": [
    "util.archive(\"stabilized\")"
   ]
  },
  {
   "cell_type": "code",
   "execution_count": null,
   "metadata": {},
   "outputs": [],
   "source": [
    "#run this if the program crashes\n",
    "del b\n",
    "gc.collect()"
   ]
  },
  {
   "cell_type": "code",
   "execution_count": null,
   "metadata": {},
   "outputs": [],
   "source": [
    "util.empty_trash()"
   ]
  }
 ],
 "metadata": {
  "kernelspec": {
   "display_name": "Python 3 (ipykernel)",
   "language": "python",
   "name": "python3"
  },
  "language_info": {
   "codemirror_mode": {
    "name": "ipython",
    "version": 3
   },
   "file_extension": ".py",
   "mimetype": "text/x-python",
   "name": "python",
   "nbconvert_exporter": "python",
   "pygments_lexer": "ipython3",
   "version": "3.7.13"
  }
 },
 "nbformat": 4,
 "nbformat_minor": 4
}
