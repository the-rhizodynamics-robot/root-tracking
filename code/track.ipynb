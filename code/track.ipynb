{
 "cells": [
  {
   "cell_type": "code",
   "execution_count": null,
   "metadata": {},
   "outputs": [],
   "source": [
    "%%capture \n",
    "import sys\n",
    "sys.path.append('/app/')\n",
    "from env_setup import track_env_setup"
   ]
  },
  {
   "cell_type": "code",
   "execution_count": null,
   "metadata": {},
   "outputs": [],
   "source": [
    "#threshold_multiplier:\n",
    "#1.3 and 50 can work for rice. rice has been 1.5 (bright lights) and 1.3 or 1.4 (dimmer lights) and 30-50, arabidopsis seemed to work somewhat at 1.4 and 10\n",
    "#1.2 was working pretty well for rice in high gelzan percent boxes (.5% or above)\n",
    "track_env_setup.seed_localization_and_tip_tracking(\n",
    "    data_path=\"/app/data/\",\n",
    "    germination_threshold_multiplier=1.5,\n",
    "    tip_trace_length=384,\n",
    "    tip_trace_threshold_multiplier=1.5,\n",
    "    tip_trace_bound_radius=30,\n",
    "    save_tip_sample=False,\n",
    "    automatic=False\n",
    ")"
   ]
  },
  {
   "cell_type": "code",
   "execution_count": null,
   "metadata": {},
   "outputs": [],
   "source": [
    "util.archive()"
   ]
  },
  {
   "cell_type": "code",
   "execution_count": null,
   "metadata": {},
   "outputs": [],
   "source": [
    "#run this if the program crashes\n",
    "del b\n",
    "gc.collect()"
   ]
  }
 ],
 "metadata": {
  "kernelspec": {
   "display_name": "Python 3 (ipykernel)",
   "language": "python",
   "name": "python3"
  },
  "language_info": {
   "codemirror_mode": {
    "name": "ipython",
    "version": 3
   },
   "file_extension": ".py",
   "mimetype": "text/x-python",
   "name": "python",
   "nbconvert_exporter": "python",
   "pygments_lexer": "ipython3",
   "version": "3.7.13"
  }
 },
 "nbformat": 4,
 "nbformat_minor": 4
}
